{
 "cells": [
  {
   "cell_type": "markdown",
   "metadata": {},
   "source": [
    "# Document Classification with Naive Bayes - Lab\n",
    "\n",
    "## Introduction\n",
    "\n",
    "In this lesson, you'll practice implementing the Naive Bayes algorithm on your own.\n",
    "\n",
    "## Objectives\n",
    "\n",
    "In this lab you will:  \n",
    "\n",
    "* Implement document classification using Naive Bayes"
   ]
  },
  {
   "cell_type": "markdown",
   "metadata": {},
   "source": [
    "## Import the dataset\n",
    "\n",
    "To start, import the dataset stored in the text file `'SMSSpamCollection'`."
   ]
  },
  {
   "cell_type": "code",
   "execution_count": 1,
   "metadata": {},
   "outputs": [
    {
     "data": {
      "text/html": [
       "<div>\n",
       "<style scoped>\n",
       "    .dataframe tbody tr th:only-of-type {\n",
       "        vertical-align: middle;\n",
       "    }\n",
       "\n",
       "    .dataframe tbody tr th {\n",
       "        vertical-align: top;\n",
       "    }\n",
       "\n",
       "    .dataframe thead th {\n",
       "        text-align: right;\n",
       "    }\n",
       "</style>\n",
       "<table border=\"1\" class=\"dataframe\">\n",
       "  <thead>\n",
       "    <tr style=\"text-align: right;\">\n",
       "      <th></th>\n",
       "      <th>label</th>\n",
       "      <th>text</th>\n",
       "    </tr>\n",
       "  </thead>\n",
       "  <tbody>\n",
       "    <tr>\n",
       "      <th>0</th>\n",
       "      <td>ham</td>\n",
       "      <td>Go until jurong point, crazy.. Available only ...</td>\n",
       "    </tr>\n",
       "    <tr>\n",
       "      <th>1</th>\n",
       "      <td>ham</td>\n",
       "      <td>Ok lar... Joking wif u oni...</td>\n",
       "    </tr>\n",
       "    <tr>\n",
       "      <th>2</th>\n",
       "      <td>spam</td>\n",
       "      <td>Free entry in 2 a wkly comp to win FA Cup fina...</td>\n",
       "    </tr>\n",
       "    <tr>\n",
       "      <th>3</th>\n",
       "      <td>ham</td>\n",
       "      <td>U dun say so early hor... U c already then say...</td>\n",
       "    </tr>\n",
       "    <tr>\n",
       "      <th>4</th>\n",
       "      <td>ham</td>\n",
       "      <td>Nah I don't think he goes to usf, he lives aro...</td>\n",
       "    </tr>\n",
       "  </tbody>\n",
       "</table>\n",
       "</div>"
      ],
      "text/plain": [
       "  label                                               text\n",
       "0   ham  Go until jurong point, crazy.. Available only ...\n",
       "1   ham                      Ok lar... Joking wif u oni...\n",
       "2  spam  Free entry in 2 a wkly comp to win FA Cup fina...\n",
       "3   ham  U dun say so early hor... U c already then say...\n",
       "4   ham  Nah I don't think he goes to usf, he lives aro..."
      ]
     },
     "execution_count": 1,
     "metadata": {},
     "output_type": "execute_result"
    }
   ],
   "source": [
    "# Your code here\n",
    "import pandas as pd\n",
    "df = pd.read_csv('SMSSpamCollection', sep='\\t', header=None, names=['label', 'text'])\n",
    "df.head()"
   ]
  },
  {
   "cell_type": "markdown",
   "metadata": {},
   "source": [
    "## Account for class imbalance\n",
    "\n",
    "To help your algorithm perform more accurately, subset the dataset so that the two classes are of equal size. To do this, keep all of the instances of the minority class (spam) and subset examples of the majority class (ham) to an equal number of examples."
   ]
  },
  {
   "cell_type": "code",
   "execution_count": 3,
   "metadata": {},
   "outputs": [
    {
     "name": "stdout",
     "output_type": "stream",
     "text": [
      "spam    747\n",
      "ham     747\n",
      "Name: label, dtype: int64\n"
     ]
    }
   ],
   "source": [
    "# Your code here\n",
    "# Subset examples to achieve class balance\n",
    "spam = df[df['label'] == 'spam']\n",
    "ham = df[df['label'] == 'ham'].sample(n=len(spam), random_state=42)\n",
    "balanced_data = pd.concat([spam, ham])\n",
    "\n",
    "# Reset index of balanced dataset\n",
    "balanced_data = balanced_data.reset_index(drop=True)\n",
    "\n",
    "# Verify class balance\n",
    "print(balanced_data['label'].value_counts())\n"
   ]
  },
  {
   "cell_type": "markdown",
   "metadata": {},
   "source": [
    "## Train-test split\n",
    "\n",
    "Now implement a train-test split on the dataset: "
   ]
  },
  {
   "cell_type": "code",
   "execution_count": 4,
   "metadata": {},
   "outputs": [],
   "source": [
    "# Your code here\n",
    "from sklearn.model_selection import train_test_split\n",
    "X = df['text']\n",
    "y = df['label']\n",
    "X_train, X_test, y_train, y_test = train_test_split(X, y, test_size=0.2, random_state=42)\n",
    "train_df = pd.concat([X_train, y_train], axis=1)\n",
    "test_df = pd.concat([X_test, y_test], axis=1)\n"
   ]
  },
  {
   "cell_type": "markdown",
   "metadata": {},
   "source": [
    "## Create the word frequency dictionary for each class\n",
    "\n",
    "Create a word frequency dictionary for each class: "
   ]
  },
  {
   "cell_type": "code",
   "execution_count": 10,
   "metadata": {},
   "outputs": [],
   "source": [
    "# Your code here\n",
    "class_word_freq = {} \n",
    "classes = train_df['label'].unique()\n",
    "for class_ in classes:\n",
    "    temp_df = train_df[train_df['label'] == class_]\n",
    "    bag = {}\n",
    "    for row in temp_df.index:\n",
    "        doc = temp_df['text'][row]\n",
    "        for word in doc.split():\n",
    "            bag[word] = bag.get(word, 0) + 1\n",
    "    class_word_freq[class_] = bag\n"
   ]
  },
  {
   "cell_type": "markdown",
   "metadata": {},
   "source": [
    "## Count the total corpus words\n",
    "Calculate V, the total number of words in the corpus: "
   ]
  },
  {
   "cell_type": "code",
   "execution_count": 11,
   "metadata": {},
   "outputs": [],
   "source": [
    "# Your code here\n",
    "total_vocab = set()\n",
    "\n",
    "for text in train_df['text']:\n",
    "    for word in text.split():\n",
    "        total_vocab.add(word)\n",
    "V = len(total_vocab)\n"
   ]
  },
  {
   "cell_type": "markdown",
   "metadata": {},
   "source": [
    "## Create a bag of words function\n",
    "\n",
    "Before implementing the entire Naive Bayes algorithm, create a helper function `bag_it()` to create a bag of words representation from a document's text."
   ]
  },
  {
   "cell_type": "code",
   "execution_count": 12,
   "metadata": {},
   "outputs": [],
   "source": [
    "# Your code here\n",
    "def bag_it(text):\n",
    "    \"\"\"\n",
    "    Convert a text document to a bag of words representation.\n",
    "    \"\"\"\n",
    "    bag = {}\n",
    "    for word in text.split():\n",
    "        bag[word] = bag.get(word, 0) + 1\n",
    "    return bag\n"
   ]
  },
  {
   "cell_type": "markdown",
   "metadata": {},
   "source": [
    "## Implementing Naive Bayes\n",
    "\n",
    "Now, implement a master function to build a naive Bayes classifier. Be sure to use the logarithmic probabilities to avoid underflow."
   ]
  },
  {
   "cell_type": "code",
   "execution_count": 13,
   "metadata": {},
   "outputs": [],
   "source": [
    "# Your code here\n",
    "import math\n",
    "\n",
    "def classify_doc(doc, class_word_freq, p_classes, V, return_posteriors=False):\n",
    "    words = doc.split()\n",
    "    class_scores = {}\n",
    "    for class_, class_freq in class_word_freq.items():\n",
    "        # calculate log class probability p(class_)\n",
    "        log_class_score = math.log(p_classes[class_])\n",
    "        for word in words:\n",
    "            # calculate log P(word|class_)\n",
    "            word_freq = class_freq.get(word, 0)\n",
    "            log_word_score = math.log((word_freq + 1) / (sum(class_freq.values()) + V))\n",
    "            log_class_score += log_word_score\n",
    "        class_scores[class_] = log_class_score\n",
    "    if return_posteriors:\n",
    "        # exponentiate and normalize to get posterior probabilities\n",
    "        log_sum = sum(class_scores.values())\n",
    "        return {class_: math.exp(score - log_sum) for class_, score in class_scores.items()}\n",
    "    else:\n",
    "        # return the class with the highest score\n",
    "        return max(class_scores, key=class_scores.get)\n"
   ]
  },
  {
   "cell_type": "markdown",
   "metadata": {},
   "source": [
    "## Test your classifier\n",
    "\n",
    "Finally, test your classifier and measure its accuracy. Don't be perturbed if your results are sub-par; industry use cases would require substantial additional preprocessing before implementing the algorithm in practice."
   ]
  },
  {
   "cell_type": "code",
   "execution_count": 15,
   "metadata": {},
   "outputs": [
    {
     "name": "stdout",
     "output_type": "stream",
     "text": [
      "Accuracy: 0.9766\n"
     ]
    }
   ],
   "source": [
    "# Your code here\n",
    "import math\n",
    "\n",
    "def bag_it(text):\n",
    "    bag_of_words = {}\n",
    "    for word in text.split():\n",
    "        bag_of_words[word] = bag_of_words.get(word, 0) + 1\n",
    "    return bag_of_words\n",
    "\n",
    "def classify_doc(doc, class_word_freq, p_classes, V, return_posteriors=False):\n",
    "    bag = bag_it(doc)\n",
    "    posteriors = []\n",
    "    for label in p_classes.keys():\n",
    "        # calculate log of prior\n",
    "        log_prior = math.log(p_classes[label])\n",
    "        # calculate log of likelihood\n",
    "        word_freq = class_word_freq[label]\n",
    "        log_likelihood = 0.0\n",
    "        for word in bag.keys():\n",
    "            log_likelihood += bag[word] * math.log(word_freq.get(word, 0.0) + 1.0)\n",
    "        # calculate log of posterior\n",
    "        log_posterior = log_prior + log_likelihood\n",
    "        posteriors.append((label, log_posterior))\n",
    "    # return posteriors if requested\n",
    "    if return_posteriors:\n",
    "        return posteriors\n",
    "    # otherwise, return class with maximum posterior probability\n",
    "    return max(posteriors, key=lambda x:x[1])[0]\n",
    "\n",
    "# subset the dataset so that the two classes are of equal size\n",
    "spam_df = df[df['label'] == 'spam']\n",
    "ham_df = df[df['label'] == 'ham'].sample(n=len(spam_df), random_state=42)\n",
    "train_df = pd.concat([spam_df, ham_df], axis=0, ignore_index=True)\n",
    "\n",
    "# split the dataset into training and testing sets\n",
    "X_train, X_test, y_train, y_test = train_test_split(train_df['text'], train_df['label'], test_size=0.2, random_state=42)\n",
    "\n",
    "# create word frequency dictionary for each class\n",
    "class_word_freq = {} \n",
    "classes = train_df['label'].unique()\n",
    "for class_ in classes:\n",
    "    temp_df = train_df[train_df['label'] == class_]\n",
    "    bag = {}\n",
    "    for row in temp_df.index:\n",
    "        doc = temp_df['text'][row]\n",
    "        for word in doc.split():\n",
    "            bag[word] = bag.get(word, 0) + 1\n",
    "    class_word_freq[class_] = bag\n",
    "\n",
    "# count the total corpus words\n",
    "V = len(set([word for class_ in classes for text in train_df[train_df['label'] == class_]['text'] for word in text.split()]))\n",
    "\n",
    "# calculate class priors\n",
    "p_classes = {}\n",
    "for class_ in classes:\n",
    "    p_classes[class_] = len(train_df[train_df['label'] == class_]) / len(train_df)\n",
    "\n",
    "# test the classifier on the testing set and calculate accuracy\n",
    "correct = 0\n",
    "total = len(X_test)\n",
    "for i, doc in X_test.iteritems():\n",
    "    pred = classify_doc(doc, class_word_freq, p_classes, V)\n",
    "    if pred == y_test[i]:\n",
    "        correct += 1\n",
    "accuracy = correct / total\n",
    "\n",
    "print(\"Accuracy: {:.4f}\".format(accuracy))\n"
   ]
  },
  {
   "cell_type": "markdown",
   "metadata": {},
   "source": [
    "## Level up (Optional)\n",
    "\n",
    "Rework your code into an appropriate class structure so that you could easily implement the algorithm on any given dataset."
   ]
  },
  {
   "cell_type": "markdown",
   "metadata": {},
   "source": [
    "## Summary\n",
    "\n",
    "Well done! In this lab, you practiced implementing Naive Bayes for document classification!"
   ]
  }
 ],
 "metadata": {
  "kernelspec": {
   "display_name": "Python 3 (ipykernel)",
   "language": "python",
   "name": "python3"
  },
  "language_info": {
   "codemirror_mode": {
    "name": "ipython",
    "version": 3
   },
   "file_extension": ".py",
   "mimetype": "text/x-python",
   "name": "python",
   "nbconvert_exporter": "python",
   "pygments_lexer": "ipython3",
   "version": "3.9.13"
  }
 },
 "nbformat": 4,
 "nbformat_minor": 2
}
